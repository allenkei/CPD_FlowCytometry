{
 "cells": [
  {
   "cell_type": "code",
   "execution_count": 1,
   "id": "fb0a085b",
   "metadata": {},
   "outputs": [
    {
     "name": "stdout",
     "output_type": "stream",
     "text": [
      "[INFO] Using device: cuda\n"
     ]
    },
    {
     "name": "stderr",
     "output_type": "stream",
     "text": [
      "Experiments Progress:   8%|▊         | 20/240 [2:31:28<22:44:51, 372.23s/it]"
     ]
    },
    {
     "name": "stdout",
     "output_type": "stream",
     "text": [
      "[RESULT] lr=0.001, epoch=30, kappa=0.1, mean=0.8985\n"
     ]
    },
    {
     "name": "stderr",
     "output_type": "stream",
     "text": [
      "c:\\Users\\Qi\\CPD_FlowCytometry\\sims_py\\cpd_model.py:261: RuntimeWarning: More than 20 figures have been opened. Figures created through the pyplot interface (`matplotlib.pyplot.figure`) are retained until explicitly closed and may consume too much memory. (To control this warning, see the rcParam `figure.max_open_warning`). Consider using `matplotlib.pyplot.close()`.\n",
      "  fig, ax = plt.subplots(figsize=(16,4))\n",
      "Experiments Progress:  17%|█▋        | 40/240 [4:35:38<20:38:25, 371.53s/it]"
     ]
    },
    {
     "name": "stdout",
     "output_type": "stream",
     "text": [
      "[RESULT] lr=0.001, epoch=30, kappa=0.2, mean=0.9502\n"
     ]
    },
    {
     "name": "stderr",
     "output_type": "stream",
     "text": [
      "Experiments Progress:  25%|██▌       | 60/240 [7:19:18<24:16:30, 485.50s/it]"
     ]
    },
    {
     "name": "stdout",
     "output_type": "stream",
     "text": [
      "[RESULT] lr=0.001, epoch=40, kappa=0.1, mean=0.7761\n"
     ]
    },
    {
     "name": "stderr",
     "output_type": "stream",
     "text": [
      "Experiments Progress:  33%|███▎      | 79/240 [9:56:38<22:25:42, 501.50s/it]"
     ]
    }
   ],
   "source": [
    "import torch\n",
    "import numpy as np\n",
    "import pandas as pd\n",
    "from cpd_model import parse_args, learn_one_seq_penalty\n",
    "import os\n",
    "from tqdm import tqdm\n",
    "import matplotlib.pyplot as plt\n",
    "import seaborn as sns\n",
    "\n",
    "os.environ[\"KMP_DUPLICATE_LIB_OK\"] = \"TRUE\"\n",
    "\n",
    "args = parse_args()\n",
    "args.num_time = 200\n",
    "args.num_samples = 100\n",
    "args.x_dim = 3\n",
    "args.y_dim = 3\n",
    "args.z_dim = 3\n",
    "args.penalties = [0.1, 0.3, 0.5, 0.7, 1, 3, 5, 10] \n",
    "args.outpulayer = [2000,2000]\n",
    "args.decoder_iteration = 30\n",
    "args.signif_level = 0.95\n",
    "\n",
    "device = torch.device(\"cuda\" if torch.cuda.is_available() else \"cpu\")\n",
    "print(\"[INFO] Using device:\", device)\n",
    "\n",
    "grid_decoder_lr = [1e-3,1e-2]\n",
    "grid_epoch = [30,40,50]\n",
    "grid_kappa = [0.1,0.2]\n",
    "\n",
    "n_repeats = 20\n",
    "all_results = []\n",
    "\n",
    "total_exps = len(grid_decoder_lr) * len(grid_epoch) * len(grid_kappa) * n_repeats\n",
    "\n",
    "with tqdm(total=total_exps, desc=\"Experiments Progress\") as pbar:\n",
    "    for decoder_lr in grid_decoder_lr:\n",
    "        for epoch in grid_epoch:\n",
    "            for kappa in grid_kappa:\n",
    "                args.decoder_lr = decoder_lr\n",
    "                args.epoch = epoch\n",
    "                args.kappa = kappa\n",
    "\n",
    "                rep_results = []\n",
    "                for rep in range(n_repeats):\n",
    "                    dat_y = pd.read_csv(f\"./reps_sim_dat/y_rep{rep}.csv\").values\n",
    "                    dat_x = pd.read_csv(f\"./reps_sim_dat/x_rep{rep}.csv\").values\n",
    "\n",
    "                    T, N, dx, dy = args.num_time, args.num_samples, args.x_dim, args.y_dim\n",
    "                    Y_array = dat_y.T.reshape(dy, N, T, order=\"F\").transpose(2,1,0)\n",
    "                    X_array = dat_x.T.reshape(dx, N, T, order=\"F\").transpose(2,1,0)\n",
    "\n",
    "                    x_input = torch.tensor(X_array, dtype=torch.float32).to(device)\n",
    "                    y_input = torch.tensor(Y_array, dtype=torch.float32).to(device)\n",
    "\n",
    "                    odd_idx, even_idx = range(1, T, 2), range(0, T, 2)\n",
    "                    x_train, x_test = x_input[odd_idx].reshape(-1, dx), x_input[even_idx].reshape(-1, dx)\n",
    "                    y_train, y_test = y_input[odd_idx].reshape(-1, dy), y_input[even_idx].reshape(-1, dy)\n",
    "\n",
    "                    results_half = []\n",
    "                    for penalty in args.penalties:\n",
    "                        loss, pen = learn_one_seq_penalty(\n",
    "                            args, x_train, y_train, x_test, y_test,\n",
    "                            penalty=penalty, half=True\n",
    "                        )\n",
    "                        results_half.append([loss, pen])\n",
    "                    results_half = np.array(results_half)\n",
    "                    best_idx = np.argmin(results_half[:, 0])\n",
    "                    best_penalty = args.penalties[best_idx]\n",
    "\n",
    "\n",
    "                    res_full = learn_one_seq_penalty(\n",
    "                        args,\n",
    "                        x_input.reshape(-1, dx),\n",
    "                        y_input.reshape(-1, dy),\n",
    "                        x_input.reshape(-1, dx),\n",
    "                        y_input.reshape(-1, dy),\n",
    "                        penalty=best_penalty,\n",
    "                        half=False\n",
    "                    )\n",
    "\n",
    "                    rep_results.append(res_full[3])  # covering_metric\n",
    "                    all_results.append({\n",
    "                        \"rep\": rep,\n",
    "                        \"epoch\": epoch,\n",
    "                        \"decoder_lr\": decoder_lr,\n",
    "                        \"kappa\": kappa,\n",
    "                        \"best_penalty\": best_penalty,\n",
    "                        \"covering_metric\": res_full[3]\n",
    "                    })\n",
    "\n",
    "\n",
    "                    pbar.update(1)\n",
    "\n",
    "                avg_score = np.mean(rep_results)\n",
    "                tqdm.write(f\"[RESULT] lr={decoder_lr}, epoch={epoch}, \"\n",
    "                           f\"kappa={kappa}, mean={avg_score:.4f}\")\n",
    "\n",
    "\n",
    "df_results = pd.DataFrame(all_results)\n",
    "df_summary = df_results.groupby(\n",
    "    [\"decoder_lr\",\"epoch\",\"kappa\"]\n",
    ")[\"covering_metric\"].mean().reset_index()\n",
    "\n",
    "print(\"\\n=== Grid Search Summary ===\")\n",
    "print(df_summary)\n",
    "\n",
    "\n",
    "# for epoch in grid_epoch:\n",
    "#     pivot = df_summary[df_summary[\"epoch\"]==epoch].pivot(\n",
    "#         index=\"decoder_lr\", columns=\"kappa\", values=\"covering_metric\"\n",
    "#     )\n",
    "#     plt.figure(figsize=(6,4))\n",
    "#     sns.heatmap(pivot, annot=True, fmt=\".3f\", cmap=\"viridis\")\n",
    "#     plt.title(f\"Covering Metric (epoch={epoch})\")\n",
    "#     plt.ylabel(\"decoder_lr\")\n",
    "#     plt.xlabel(\"kappa\")\n",
    "#     plt.tight_layout()\n",
    "#     plt.show()\n",
    "#         0.001     30   0.20         0.870561"
   ]
  },
  {
   "cell_type": "code",
   "execution_count": 2,
   "id": "2851773d",
   "metadata": {},
   "outputs": [
    {
     "data": {
      "text/plain": [
       "0     0.5\n",
       "1     5.0\n",
       "2     0.1\n",
       "3     0.1\n",
       "4     0.1\n",
       "5     0.1\n",
       "6     1.0\n",
       "7     1.0\n",
       "8     0.5\n",
       "9     0.1\n",
       "10    0.5\n",
       "11    0.1\n",
       "12    0.1\n",
       "13    0.1\n",
       "14    0.1\n",
       "15    1.0\n",
       "16    0.5\n",
       "17    0.1\n",
       "18    0.1\n",
       "19    0.5\n",
       "Name: best_penalty, dtype: float64"
      ]
     },
     "execution_count": 2,
     "metadata": {},
     "output_type": "execute_result"
    }
   ],
   "source": [
    "# df_results[\"res_full\"].apply(lambda x: x[3]).mean()\n",
    "df_results[\"best_penalty\"]"
   ]
  },
  {
   "cell_type": "code",
   "execution_count": null,
   "id": "030e48c2",
   "metadata": {},
   "outputs": [],
   "source": [
    "# accuracy: 0.84\n",
    "# args = parse_args()\n",
    "# args.epoch = 30           \n",
    "# args.penalties = [0.01, 0.1, 0.5, 1, 5] \n",
    "# args.num_time = 200\n",
    "# args.num_samples = 100\n",
    "# args.x_dim = 3\n",
    "# args.y_dim = 3\n",
    "# args.z_dim = 1\n",
    "# args.decoder_lr = 0.001"
   ]
  }
 ],
 "metadata": {
  "kernelspec": {
   "display_name": "CPD",
   "language": "python",
   "name": "python3"
  },
  "language_info": {
   "codemirror_mode": {
    "name": "ipython",
    "version": 3
   },
   "file_extension": ".py",
   "mimetype": "text/x-python",
   "name": "python",
   "nbconvert_exporter": "python",
   "pygments_lexer": "ipython3",
   "version": "3.11.13"
  }
 },
 "nbformat": 4,
 "nbformat_minor": 5
}
