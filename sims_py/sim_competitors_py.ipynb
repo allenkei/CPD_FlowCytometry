{
 "cells": [
  {
   "cell_type": "code",
   "execution_count": null,
   "id": "7a2bac64",
   "metadata": {},
   "outputs": [
    {
     "data": {
      "text/html": [
       "<div>\n",
       "<style scoped>\n",
       "    .dataframe tbody tr th:only-of-type {\n",
       "        vertical-align: middle;\n",
       "    }\n",
       "\n",
       "    .dataframe tbody tr th {\n",
       "        vertical-align: top;\n",
       "    }\n",
       "\n",
       "    .dataframe thead th {\n",
       "        text-align: right;\n",
       "    }\n",
       "</style>\n",
       "<table border=\"1\" class=\"dataframe\">\n",
       "  <thead>\n",
       "    <tr style=\"text-align: right;\">\n",
       "      <th></th>\n",
       "      <th>abs_error</th>\n",
       "      <th>dist_est_gt</th>\n",
       "      <th>dist_gt_est</th>\n",
       "      <th>covering_metric</th>\n",
       "      <th>est_CP</th>\n",
       "      <th>method</th>\n",
       "    </tr>\n",
       "  </thead>\n",
       "  <tbody>\n",
       "    <tr>\n",
       "      <th>0</th>\n",
       "      <td>0</td>\n",
       "      <td>0</td>\n",
       "      <td>0</td>\n",
       "      <td>1.0</td>\n",
       "      <td>[51, 101, 151]</td>\n",
       "      <td>ruptures</td>\n",
       "    </tr>\n",
       "  </tbody>\n",
       "</table>\n",
       "</div>"
      ],
      "text/plain": [
       "   abs_error  dist_est_gt  dist_gt_est  covering_metric          est_CP  \\\n",
       "0          0            0            0              1.0  [51, 101, 151]   \n",
       "\n",
       "     method  \n",
       "0  ruptures  "
      ]
     },
     "execution_count": 18,
     "metadata": {},
     "output_type": "execute_result"
    }
   ],
   "source": [
    "import pandas as pd\n",
    "import numpy as np\n",
    "import bayesian_changepoint_detection.offline_changepoint_detection as offcd\n",
    "import bayesian_changepoint_detection.hazard as hazard\n",
    "import bayesian_changepoint_detection.distributions as distributions\n",
    "from functools import partial\n",
    "import ruptures as rpt\n",
    "\n",
    "def evaluate_change_points(est_CP, true_CP, T):\n",
    "    tau = T - 1\n",
    "    num_CP = len(est_CP)\n",
    "\n",
    "    if num_CP == 0:\n",
    "        dist_est_gt = np.inf\n",
    "        dist_gt_est = -np.inf\n",
    "        covering_metric = 0\n",
    "    else:\n",
    "        # max over true CPs of distance to nearest est CP\n",
    "        holder_est_gt = [min(abs(np.array(est_CP) - i)) for i in true_CP]\n",
    "        dist_est_gt = max(holder_est_gt) if holder_est_gt else np.inf\n",
    "\n",
    "        # max over est CPs of distance to nearest true CP\n",
    "        holder_gt_est = [min(abs(np.array(true_CP) - i)) for i in est_CP]\n",
    "        dist_gt_est = max(holder_gt_est) if holder_gt_est else np.inf\n",
    "\n",
    "        # add boundaries\n",
    "        gt_CP_all = [1] + list(true_CP) + [T + 1]\n",
    "        est_CP_all = [1] + list(est_CP) + [T + 1]\n",
    "\n",
    "        # construct segment index sets\n",
    "        gt_list = [set(range(gt_CP_all[i-1], gt_CP_all[i])) for i in range(1, len(gt_CP_all))]\n",
    "        est_list = [set(range(est_CP_all[i-1], est_CP_all[i])) for i in range(1, len(est_CP_all))]\n",
    "\n",
    "        covering_metric = 0\n",
    "        for A in gt_list:\n",
    "            jaccard_vals = []\n",
    "            for Ap in est_list:\n",
    "                inter = len(A & Ap)\n",
    "                union = len(A | Ap)\n",
    "                jaccard_vals.append(inter / union if union > 0 else 0)\n",
    "            covering_metric += len(A) * max(jaccard_vals)\n",
    "        covering_metric /= (tau + 1)\n",
    "\n",
    "    abs_error = abs(num_CP - len(true_CP))\n",
    "\n",
    "    return pd.DataFrame([{\n",
    "        \"abs_error\": abs_error,\n",
    "        \"dist_est_gt\": dist_est_gt,\n",
    "        \"dist_gt_est\": dist_gt_est,\n",
    "        \"covering_metric\": covering_metric,\n",
    "        \"est_CP\": est_CP\n",
    "    }])\n",
    "\n",
    "\n",
    "\n",
    "Y_flat = pd.read_csv(\"./reps_sim_dat/y_rep0.csv\").values  # shape (20000, 3)\n",
    "\n",
    "\n",
    "T, N, d = 200, 100, 3\n",
    "Y_array = Y_flat.reshape(T, N, d)\n",
    "Y_mean = Y_array.mean(axis=1) \n",
    "\n",
    "# Method1: Ruptures\n",
    "# Truong, C., Oudre, L., & Vayatis, N. (2018). ruptures: change point detection in Python. arXiv preprint arXiv:1801.00826.\n",
    "algo = rpt.Binseg(model=\"l2\").fit(Y_mean)\n",
    "bkps = algo.predict(n_bkps=3)\n",
    "est_CP = [b + 1 for b in bkps[:-1]]\n",
    "res_ruptures = evaluate_change_points(est_CP, [51,101,151], 200)\n",
    "res_ruptures[\"method\"] = \"ruptures\"\n",
    "res_ruptures\n",
    "\n",
    "# Method2: bayesian-changepoint-detection   #########Only for Univariate Case###############\n",
    "# Adams, R. P., & MacKay, D. J. C. (2007).Bayesian Online Changepoint Detection. arXiv preprint arXiv:0710.3742.\n",
    "\n",
    "\n"
   ]
  },
  {
   "cell_type": "code",
   "execution_count": 10,
   "id": "48c6d240",
   "metadata": {},
   "outputs": [
    {
     "data": {
      "text/plain": [
       "[50, 100, 150]"
      ]
     },
     "execution_count": 10,
     "metadata": {},
     "output_type": "execute_result"
    }
   ],
   "source": [
    "bkps[0:3]"
   ]
  }
 ],
 "metadata": {
  "kernelspec": {
   "display_name": "CPD",
   "language": "python",
   "name": "python3"
  },
  "language_info": {
   "codemirror_mode": {
    "name": "ipython",
    "version": 3
   },
   "file_extension": ".py",
   "mimetype": "text/x-python",
   "name": "python",
   "nbconvert_exporter": "python",
   "pygments_lexer": "ipython3",
   "version": "3.11.13"
  }
 },
 "nbformat": 4,
 "nbformat_minor": 5
}
